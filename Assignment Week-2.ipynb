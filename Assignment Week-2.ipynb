{
 "cells": [
  {
   "cell_type": "code",
   "execution_count": 5,
   "id": "f6855436-ad6f-4877-afe7-d1fbab541ff0",
   "metadata": {},
   "outputs": [
    {
     "name": "stdout",
     "output_type": "stream",
     "text": [
      "0\n",
      "1\n",
      "2\n",
      "3\n",
      "4\n",
      "5\n",
      "6\n"
     ]
    }
   ],
   "source": [
    "#Q.1\n",
    "\"\"\"In Comments there are two types of comments in python \n",
    "                 1).One is Single line comment.We can write this comment by using Hash \"#\"\n",
    "                 2).Multiline comment which is reprasented by triple quotes \"\"\"\n",
    "\n",
    "for i in range(0,7):\n",
    "    print(i)                #Single line comment\n",
    "    # break"
   ]
  },
  {
   "cell_type": "code",
   "execution_count": 11,
   "id": "36115e7f-a317-43cb-a4fc-5d6d7d5f63de",
   "metadata": {},
   "outputs": [
    {
     "name": "stdout",
     "output_type": "stream",
     "text": [
      "0\n",
      "1\n",
      "0\n",
      "4\n",
      "0\n",
      "9\n",
      "0\n",
      "16\n",
      "0\n",
      "25\n",
      "0\n",
      "38\n"
     ]
    }
   ],
   "source": [
    "# Multiline comment\n",
    "lst = [1,2,3,4,5,6,7,8,9,10,12,13]\n",
    "even_sum = 0\n",
    "odd_sum = 0\n",
    "for i in lst:\n",
    "    if i%2==0:\n",
    "        \"\"\"even_sum+=i\"\"\"\n",
    "    else:\n",
    "            odd_sum+=i\n",
    "            print(even_sum)\n",
    "            print(odd_sum)  "
   ]
  },
  {
   "cell_type": "code",
   "execution_count": 13,
   "id": "682d9a0b-2449-426b-b6c5-b053a0e2f28a",
   "metadata": {},
   "outputs": [
    {
     "data": {
      "text/plain": [
       "20"
      ]
     },
     "execution_count": 13,
     "metadata": {},
     "output_type": "execute_result"
    }
   ],
   "source": [
    "#Q.2\n",
    "\"\"\"Variable are usedd to Store the different data types such as numbers, Strings, Lists, Dictionaries\"\"\"\n",
    "a =20\n",
    "a"
   ]
  },
  {
   "cell_type": "code",
   "execution_count": 60,
   "id": "660a3992-6643-4efc-a154-fd81e962c0fc",
   "metadata": {},
   "outputs": [],
   "source": [
    "name = \"Mahesh\""
   ]
  },
  {
   "cell_type": "code",
   "execution_count": 61,
   "id": "3e9bd085-efd6-43c6-90b3-7a5c2756816b",
   "metadata": {},
   "outputs": [
    {
     "data": {
      "text/plain": [
       "'Mahesh'"
      ]
     },
     "execution_count": 61,
     "metadata": {},
     "output_type": "execute_result"
    }
   ],
   "source": [
    "name"
   ]
  },
  {
   "cell_type": "code",
   "execution_count": 1,
   "id": "c91af872-1cd7-4d4a-91c7-22ba03edad42",
   "metadata": {},
   "outputs": [],
   "source": [
    "age = 21"
   ]
  },
  {
   "cell_type": "code",
   "execution_count": 2,
   "id": "df5a0d12-c9df-4b78-b4f3-f7157c11a299",
   "metadata": {},
   "outputs": [
    {
     "data": {
      "text/plain": [
       "21"
      ]
     },
     "execution_count": 2,
     "metadata": {},
     "output_type": "execute_result"
    }
   ],
   "source": [
    "age"
   ]
  },
  {
   "cell_type": "code",
   "execution_count": 62,
   "id": "6ab8aa81-8a17-4ec2-a863-192875fa244d",
   "metadata": {},
   "outputs": [
    {
     "data": {
      "text/plain": [
       "'Google'"
      ]
     },
     "execution_count": 62,
     "metadata": {},
     "output_type": "execute_result"
    }
   ],
   "source": [
    "company = 'Google'\n",
    "company"
   ]
  },
  {
   "cell_type": "code",
   "execution_count": 63,
   "id": "632c9a93-1c12-4ce4-baa0-b02b00f8099c",
   "metadata": {},
   "outputs": [
    {
     "name": "stdout",
     "output_type": "stream",
     "text": [
      "Hello\n"
     ]
    }
   ],
   "source": [
    "print(\"Hello\")"
   ]
  },
  {
   "cell_type": "code",
   "execution_count": 7,
   "id": "8c3ed251-feb5-407e-a450-134c26b1e8b1",
   "metadata": {},
   "outputs": [],
   "source": [
    "lst = [1,2,3,4]"
   ]
  },
  {
   "cell_type": "code",
   "execution_count": 8,
   "id": "95034ce5-53d2-4099-838c-b339bd173bf7",
   "metadata": {},
   "outputs": [
    {
     "data": {
      "text/plain": [
       "[1, 2, 3, 4]"
      ]
     },
     "execution_count": 8,
     "metadata": {},
     "output_type": "execute_result"
    }
   ],
   "source": [
    "lst"
   ]
  },
  {
   "cell_type": "code",
   "execution_count": 33,
   "id": "72ad17db-ddba-41ac-ad97-99c68b6b3809",
   "metadata": {},
   "outputs": [
    {
     "data": {
      "text/plain": [
       "4"
      ]
     },
     "execution_count": 33,
     "metadata": {},
     "output_type": "execute_result"
    }
   ],
   "source": [
    "len(lst)"
   ]
  },
  {
   "cell_type": "code",
   "execution_count": 34,
   "id": "f8d9a714-7da6-44aa-abc9-cba249370a72",
   "metadata": {},
   "outputs": [],
   "source": [
    "d = {'name':'Mahesh','age':21}"
   ]
  },
  {
   "cell_type": "code",
   "execution_count": 71,
   "id": "dcc230b6-e54d-48dc-b39b-5200f36a054d",
   "metadata": {},
   "outputs": [
    {
     "data": {
      "text/plain": [
       "{'name': 'Mahesh', 'age': 21}"
      ]
     },
     "execution_count": 71,
     "metadata": {},
     "output_type": "execute_result"
    }
   ],
   "source": [
    "d"
   ]
  },
  {
   "cell_type": "code",
   "execution_count": 36,
   "id": "13374d5f-9c17-4e46-9506-052ce4e7e4ec",
   "metadata": {},
   "outputs": [
    {
     "data": {
      "text/plain": [
       "'Convert one data type to another in python is by using Typecasting'"
      ]
     },
     "execution_count": 36,
     "metadata": {},
     "output_type": "execute_result"
    }
   ],
   "source": [
    "#Q.3 How to convert one data type to another data type\n",
    "\"\"\"Convert one data type to another in python is by using Typecasting\"\"\""
   ]
  },
  {
   "cell_type": "code",
   "execution_count": 32,
   "id": "d5e896de-cf67-4dfc-9a9a-c6b7f2a3c8ff",
   "metadata": {},
   "outputs": [
    {
     "data": {
      "text/plain": [
       "float"
      ]
     },
     "execution_count": 32,
     "metadata": {},
     "output_type": "execute_result"
    }
   ],
   "source": [
    "integer_num = 22\n",
    "integer_num = float(integer_num)\n",
    "type(integer_num)"
   ]
  },
  {
   "cell_type": "code",
   "execution_count": 34,
   "id": "7781fdec-4386-4f87-9cf0-8675cd2702aa",
   "metadata": {},
   "outputs": [],
   "source": [
    "float_num = 2.5\n",
    "float_num = int(float_num)"
   ]
  },
  {
   "cell_type": "markdown",
   "id": "d2d52a35-50ec-419f-8a1f-73ed6ee49075",
   "metadata": {},
   "source": [
    "type(float_num)"
   ]
  },
  {
   "cell_type": "code",
   "execution_count": 88,
   "id": "8a8f6211-7eb0-4619-b528-625f3c9307fc",
   "metadata": {},
   "outputs": [
    {
     "data": {
      "text/plain": [
       "True"
      ]
     },
     "execution_count": 88,
     "metadata": {},
     "output_type": "execute_result"
    }
   ],
   "source": [
    "bool(1)"
   ]
  },
  {
   "cell_type": "code",
   "execution_count": 101,
   "id": "a2debb53-ae08-43e0-934f-98b151fcf345",
   "metadata": {},
   "outputs": [
    {
     "data": {
      "text/plain": [
       "False"
      ]
     },
     "execution_count": 101,
     "metadata": {},
     "output_type": "execute_result"
    }
   ],
   "source": [
    "bool(0)"
   ]
  },
  {
   "cell_type": "code",
   "execution_count": 121,
   "id": "32bbbdab-d892-4eb8-8b99-24dd152be809",
   "metadata": {},
   "outputs": [],
   "source": [
    "# Q.8\n",
    "price = 9.99"
   ]
  },
  {
   "cell_type": "code",
   "execution_count": 122,
   "id": "b5419c89-04aa-4a7b-a5fa-5e763165ec7e",
   "metadata": {},
   "outputs": [
    {
     "data": {
      "text/plain": [
       "float"
      ]
     },
     "execution_count": 122,
     "metadata": {},
     "output_type": "execute_result"
    }
   ],
   "source": [
    "type(price)"
   ]
  },
  {
   "cell_type": "code",
   "execution_count": 123,
   "id": "c1afedba-2eea-4f47-be5a-e4bf3acf4652",
   "metadata": {},
   "outputs": [],
   "source": [
    "#Q.9\n",
    "name = \"Mahesh\""
   ]
  },
  {
   "cell_type": "code",
   "execution_count": 124,
   "id": "986de722-42f1-43df-9029-b646da019efb",
   "metadata": {},
   "outputs": [
    {
     "data": {
      "text/plain": [
       "'Mahesh'"
      ]
     },
     "execution_count": 124,
     "metadata": {},
     "output_type": "execute_result"
    }
   ],
   "source": [
    "name"
   ]
  },
  {
   "cell_type": "code",
   "execution_count": 125,
   "id": "9a8a57dd-01b7-43ce-b562-94d6cadaf028",
   "metadata": {},
   "outputs": [
    {
     "data": {
      "text/plain": [
       "6"
      ]
     },
     "execution_count": 125,
     "metadata": {},
     "output_type": "execute_result"
    }
   ],
   "source": [
    "len(name)"
   ]
  },
  {
   "cell_type": "code",
   "execution_count": 138,
   "id": "0709e4e3-c3d6-448e-839c-119c1f924263",
   "metadata": {},
   "outputs": [],
   "source": [
    "#Q.11\n",
    "is_student = bool(0)"
   ]
  },
  {
   "cell_type": "code",
   "execution_count": 139,
   "id": "cbadbad2-a3e8-4ea3-a082-a8435a6bba18",
   "metadata": {},
   "outputs": [
    {
     "data": {
      "text/plain": [
       "False"
      ]
     },
     "execution_count": 139,
     "metadata": {},
     "output_type": "execute_result"
    }
   ],
   "source": [
    "is_student"
   ]
  },
  {
   "cell_type": "code",
   "execution_count": 7,
   "id": "d8514001-ab5e-4211-af01-02bc4909389f",
   "metadata": {},
   "outputs": [
    {
     "data": {
      "text/plain": [
       "[2, 3]"
      ]
     },
     "execution_count": 7,
     "metadata": {},
     "output_type": "execute_result"
    }
   ],
   "source": [
    "#Q.5\n",
    "my_list = [1,2,3,4,5]\n",
    "my_list = my_list[1:3]\n",
    "my_list"
   ]
  },
  {
   "cell_type": "code",
   "execution_count": 8,
   "id": "5f22ab0a-9eac-446b-bfa4-4d383a68a284",
   "metadata": {},
   "outputs": [
    {
     "data": {
      "text/plain": [
       "(2+3j)"
      ]
     },
     "execution_count": 8,
     "metadata": {},
     "output_type": "execute_result"
    }
   ],
   "source": [
    "#Q.6\n",
    "\"\"\"A complex number is a number that can be expressed in the form of \"a+bi\", a and b are the numbers\n",
    "       'a' repracents the real part of the complex number\n",
    "       'b' repracents the imagenary part of the complex number\"\"\"\n",
    "a = 2+3j\n",
    "a"
   ]
  },
  {
   "cell_type": "code",
   "execution_count": 9,
   "id": "13279f74-743a-499c-a266-d434e4d08dfa",
   "metadata": {},
   "outputs": [
    {
     "data": {
      "text/plain": [
       "complex"
      ]
     },
     "execution_count": 9,
     "metadata": {},
     "output_type": "execute_result"
    }
   ],
   "source": [
    "type(a)"
   ]
  },
  {
   "cell_type": "code",
   "execution_count": 10,
   "id": "7878eec5-d337-4628-b4bf-e49f0699584c",
   "metadata": {},
   "outputs": [
    {
     "data": {
      "text/plain": [
       "25"
      ]
     },
     "execution_count": 10,
     "metadata": {},
     "output_type": "execute_result"
    }
   ],
   "source": [
    "#Q.7\n",
    "age = 25\n",
    "age"
   ]
  },
  {
   "cell_type": "code",
   "execution_count": 12,
   "id": "8a305e8a-b1c1-4bcb-838c-76cc956abcde",
   "metadata": {},
   "outputs": [
    {
     "data": {
      "text/plain": [
       "int"
      ]
     },
     "execution_count": 12,
     "metadata": {},
     "output_type": "execute_result"
    }
   ],
   "source": [
    "type(age)"
   ]
  },
  {
   "cell_type": "code",
   "execution_count": 29,
   "id": "96803b3e-cdf2-4743-9ba0-cf5cc7251115",
   "metadata": {},
   "outputs": [
    {
     "data": {
      "text/plain": [
       "'World!'"
      ]
     },
     "execution_count": 29,
     "metadata": {},
     "output_type": "execute_result"
    }
   ],
   "source": [
    "#Q.10\n",
    "my_string = \"Hello,World!\"\n",
    "my_string[6:]"
   ]
  },
  {
   "cell_type": "markdown",
   "id": "d6ea12d5-7b47-4f3e-81ae-2e445bdac3bf",
   "metadata": {},
   "source": [
    "#Q.4\n",
    "\n",
    "You can use text editors like Notepad or code editors like Visual Studio code,Sublime text or Atom. Save your script with a '.py' extention to \n",
    "indicate that it's a python file.\n",
    " my_script.py\n",
    "print(\"Hello, World!\")"
   ]
  },
  {
   "cell_type": "code",
   "execution_count": null,
   "id": "7b35754f-2a6b-4fe1-8d04-481948dc53c2",
   "metadata": {},
   "outputs": [],
   "source": []
  }
 ],
 "metadata": {
  "kernelspec": {
   "display_name": "Python 3 (ipykernel)",
   "language": "python",
   "name": "python3"
  },
  "language_info": {
   "codemirror_mode": {
    "name": "ipython",
    "version": 3
   },
   "file_extension": ".py",
   "mimetype": "text/x-python",
   "name": "python",
   "nbconvert_exporter": "python",
   "pygments_lexer": "ipython3",
   "version": "3.10.8"
  }
 },
 "nbformat": 4,
 "nbformat_minor": 5
}
